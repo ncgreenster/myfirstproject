{
 "metadata": {
  "language_info": {
   "codemirror_mode": {
    "name": "ipython",
    "version": 3
   },
   "file_extension": ".py",
   "mimetype": "text/x-python",
   "name": "python",
   "nbconvert_exporter": "python",
   "pygments_lexer": "ipython3",
   "version": "3.7.6-final"
  },
  "orig_nbformat": 2,
  "kernelspec": {
   "name": "python_defaultSpec_1600323673873",
   "display_name": "Python 3.7.6 64-bit ('base': conda)"
  }
 },
 "nbformat": 4,
 "nbformat_minor": 2,
 "cells": [
  {
   "cell_type": "markdown",
   "metadata": {},
   "source": [
    "# Google Search Console API (With Python)\n",
    "author:    Jean-Christophe Chouinard\n",
    "\n",
    "Role:      Sr. SEO Specialist at SEEK.com.au\n",
    "\n",
    "Website:   [jcchouinard.com](https://www.jcchouinard.com/)\n",
    "\n",
    "LinkedIn:  [linkedin.com/in/jeanchristophechouinard/](https://www.linkedin.com/in/jeanchristophechouinard/)\n",
    "\n",
    "Twitter:   [twitter.com/@ChouinardJC](https://twitter.com/ChouinardJC)"
   ]
  },
  {
   "cell_type": "markdown",
   "metadata": {},
   "source": [
    "## Get Started\n",
    "\n",
    "\n",
    "[jcchouinard.com/intro-to-gsc-api-with-python/](https://www.jcchouinard.com/intro-to-gsc-api-with-python/)\n",
    "\n",
    "### Clone Github Repository\n",
    "`$ git clone https://github.com/jcchouinard/GoogleSearchConsole-Tutorial.git`\n",
    "\n",
    "### Install Requirements\n",
    "`pip install -r requirements.txt`\n",
    "\n",
    "### Learn Python for SEO\n",
    "[jcchouinard.com/python-for-seo](https://www.jcchouinard.com/python-for-seo)\n",
    "\n",
    "### Get API Keys\n",
    "[jcchouinard.com/how-to-get-google-search-console-api-keys/](https://www.jcchouinard.com/how-to-get-google-search-console-api-keys/)\n",
    "\n",
    "### How to format your request\n",
    "[jcchouinard.com/what-is-google-search-console-api/](https://www.jcchouinard.com/what-is-google-search-console-api/)\n",
    "\n",
    "## Why Use The Google Search Console API?\n",
    "\n",
    "Google limits the amount of data they report to the user. \n",
    "\n",
    "In the search performance report, you can only see **1000 rows** and **16 months** of data.\n",
    "\n",
    "With GSC UI, it is also not possible to get **keywords per page** as they are reported in separate pages.\n",
    "\n",
    "The Google Search Console API lets you extract a lot more than 1000 rows of data."
   ]
  },
  {
   "cell_type": "code",
   "execution_count": null,
   "metadata": {
    "tags": []
   },
   "outputs": [],
   "source": [
    "creds = 'client_secrets.json'\n",
    "# https://www.jcchouinard.com/google-api/\n",
    "\n",
    "site = 'https://www.jcchouinard.com'\n",
    "start_date = '2020-07-15' \n",
    "end_date = '2020-07-25' # Default: 3d in past\n",
    "output = 'gsc_data.csv'"
   ]
  },
  {
   "cell_type": "markdown",
   "metadata": {},
   "source": [
    "## Authorize Your Credentials"
   ]
  },
  {
   "cell_type": "code",
   "execution_count": null,
   "metadata": {
    "tags": []
   },
   "outputs": [],
   "source": [
    "from oauth import authorize_creds\n",
    "\n",
    "webmasters_service = authorize_creds(creds)"
   ]
  },
  {
   "cell_type": "markdown",
   "metadata": {},
   "source": [
    "## Extract GSC Data by URL"
   ]
  },
  {
   "cell_type": "code",
   "execution_count": null,
   "metadata": {},
   "outputs": [],
   "source": [
    "from gsc_by_url import gsc_by_url\n",
    "\n",
    "list_of_urls = [\n",
    "    '/chrome-devtools-commands-for-seo/',\n",
    "    '/learn-selenium-python-seo-automation/'\n",
    "    ]\n",
    "\n",
    "list_of_urls = [site + x for x in list_of_urls]\n",
    "\n",
    "args = webmasters_service,site,list_of_urls,creds,start_date,end_date\n",
    "\n",
    "gsc_by_url(*args)"
   ]
  },
  {
   "cell_type": "markdown",
   "metadata": {},
   "source": [
    "## Extract Filtered Data from Google Search Console\n",
    "\n",
    "Possible combinations:\n",
    "\n",
    "Dimension: query, page.\n",
    "\n",
    "Operator: contains, equals, notEquals, notContains\n"
   ]
  },
  {
   "cell_type": "code",
   "execution_count": null,
   "metadata": {
    "tags": []
   },
   "outputs": [],
   "source": [
    "from gsc_with_filters import gsc_with_filters\n",
    "\n",
    "# Filters\n",
    "dimension = 'query' \n",
    "operator = 'contains'\n",
    "expression = 'python'\n",
    "args = webmasters_service,site,creds,dimension,operator,expression,start_date,end_date\n",
    "\n",
    "gsc_with_filters(*args,rowLimit=5000)"
   ]
  },
  {
   "cell_type": "markdown",
   "metadata": {},
   "source": [
    "## Extract 100% of the data from Google Search Console\n",
    "\n",
    "What the script does?\n",
    "\n",
    "1. Creates an output folder if it does not exist using my site.\n",
    "\n",
    "2. Checks output folder if dates are already extracted.\n",
    "\n",
    "3. Dates that are already extracted are skipped.\n",
    "\n",
    "4. Day by day, it requests lines by batch of 25K.\n",
    "\n",
    "5. It iterates until all lines are extracted for that day.\n",
    "\n",
    "6. New dates are appended to the existing CSV"
   ]
  },
  {
   "cell_type": "code",
   "execution_count": null,
   "metadata": {
    "tags": []
   },
   "outputs": [],
   "source": [
    "from gsc_to_csv_by_month import gsc_to_csv\n",
    "\n",
    "args = webmasters_service,site,output,creds,start_date\n",
    "gsc_to_csv(*args,end_date=end_date)"
   ]
  },
  {
   "cell_type": "markdown",
   "metadata": {},
   "source": [
    "### Extract up to the Latest Available Date\n",
    "Leave `end_date` empty to extract up to the latest possible date. By default `end_date` is set to three days in the past."
   ]
  },
  {
   "cell_type": "code",
   "execution_count": null,
   "metadata": {
    "tags": []
   },
   "outputs": [],
   "source": [
    "from gsc_to_csv_by_month import gsc_to_csv\n",
    "\n",
    "args = webmasters_service,site,output,creds,start_date\n",
    "gsc_to_csv(*args)"
   ]
  },
  {
   "cell_type": "markdown",
   "metadata": {},
   "source": [
    "### Enable Compression with the Optional gz Parameter\n",
    "By default `gz` is set to `False`."
   ]
  },
  {
   "cell_type": "code",
   "execution_count": null,
   "metadata": {
    "tags": []
   },
   "outputs": [],
   "source": [
    "from gsc_to_csv_by_month import gsc_to_csv\n",
    "\n",
    "start_date = '2020-07-15' \n",
    "end_date = '2020-07-25' \n",
    "args = webmasters_service,site,output,creds,start_date\n",
    "gsc_to_csv(*args,end_date=end_date,gz=True)"
   ]
  },
  {
   "cell_type": "markdown",
   "metadata": {},
   "source": [
    "## SEO Analysis"
   ]
  },
  {
   "cell_type": "markdown",
   "metadata": {},
   "source": [
    "## Branded VS Non-Branded"
   ]
  },
  {
   "cell_type": "code",
   "execution_count": null,
   "metadata": {},
   "outputs": [],
   "source": [
    "import matplotlib.pyplot as plt\n",
    "import pandas as pd"
   ]
  },
  {
   "cell_type": "code",
   "execution_count": null,
   "metadata": {
    "tags": []
   },
   "outputs": [],
   "source": [
    "from file_manip import csvs_to_df\n",
    "\n",
    "site = 'https://www.jcchouinard.com'\n",
    "filename = 'gsc_data.csv'\n",
    "\n",
    "df = csvs_to_df(site,filename,start_date,gz=False)\n",
    "print(df.shape)\n",
    "df.head()"
   ]
  },
  {
   "cell_type": "code",
   "execution_count": null,
   "metadata": {},
   "outputs": [],
   "source": [
    "r = r'.*python.*'\n",
    "df['query_type'] = ''\n",
    "df['query_type'][df['query'].str.contains(r,regex=True)] = 'Python'\n",
    "df['query_type'][~df['query'].str.contains(r,regex=True)] = 'Not-Python'\n",
    "df['query_type'].head()"
   ]
  },
  {
   "cell_type": "code",
   "execution_count": null,
   "metadata": {},
   "outputs": [],
   "source": [
    "df = df.groupby(['date','query_type'])['clicks'].sum().reset_index()\n",
    "df.head()"
   ]
  },
  {
   "cell_type": "code",
   "execution_count": null,
   "metadata": {},
   "outputs": [],
   "source": [
    "df = df.set_index(['date','query_type'])['clicks'].unstack()\n",
    "df.head()"
   ]
  },
  {
   "cell_type": "code",
   "execution_count": null,
   "metadata": {},
   "outputs": [],
   "source": [
    "df = df.reset_index().rename_axis(None, axis=1)\n",
    "df.head()"
   ]
  },
  {
   "cell_type": "code",
   "execution_count": null,
   "metadata": {},
   "outputs": [],
   "source": [
    "from file_manip import date_to_index\n",
    "\n",
    "df = date_to_index(df,'date')\n",
    "df.head()"
   ]
  },
  {
   "cell_type": "code",
   "execution_count": null,
   "metadata": {},
   "outputs": [],
   "source": [
    "df.plot(subplots=True,\n",
    "        sharex=True,\n",
    "        figsize=(6,6))\n",
    "plt.title('Python VS Non-python Related Keywords')\n",
    "plt.xlabel('Date')\n",
    "plt.ylabel('Clicks')\n",
    "plt.show()"
   ]
  },
  {
   "cell_type": "markdown",
   "metadata": {},
   "source": [
    "## Rankings"
   ]
  },
  {
   "cell_type": "code",
   "execution_count": null,
   "metadata": {
    "tags": []
   },
   "outputs": [],
   "source": [
    "from file_manip import csvs_to_df\n",
    "\n",
    "df = csvs_to_df(site,filename,start_date,gz=False)\n",
    "df['ranking'] = 'Page 2, Pos 15+'\n",
    "df['ranking'][df['position'] <= 3] = 'Page 1, Pos 1-3'\n",
    "df['ranking'][(df['position'] > 3) & (df['position'] <= 7)] = 'Page 1, Pos 4-7'\n",
    "df['ranking'][(df['position'] > 7) & (df['position'] <= 10)] = 'Page 1, Pos 8-10'\n",
    "df['ranking'][(df['position'] > 10) & (df['position'] <= 14)] = 'Page 2, Pos 11-14'\n",
    "df.head()"
   ]
  },
  {
   "cell_type": "markdown",
   "metadata": {},
   "source": [
    "### Clicks by position"
   ]
  },
  {
   "cell_type": "code",
   "execution_count": null,
   "metadata": {},
   "outputs": [],
   "source": [
    "import plotly.express as px\n",
    "\n",
    "plot_df = df.groupby(['date','ranking']).agg({'query':'count','clicks':'sum'}).reset_index()\n",
    "\n",
    "fig = px.area(plot_df, x='date', y='clicks', color='ranking', line_group='ranking', hover_name='ranking',\n",
    "        line_shape='spline')\n",
    "fig.update_layout(\n",
    "        title=\"Number of Clicks by Avg Position\",\n",
    "        yaxis_title=\"Number of Clicks\")\n",
    "fig.show()"
   ]
  },
  {
   "cell_type": "markdown",
   "metadata": {},
   "source": [
    "### Number of Queries by Position"
   ]
  },
  {
   "cell_type": "code",
   "execution_count": null,
   "metadata": {},
   "outputs": [],
   "source": [
    "import plotly.express as px\n",
    "\n",
    "plot_df = df.groupby(['date','ranking']).agg({'query':'count','clicks':'sum'}).reset_index()\n",
    "\n",
    "fig = px.area(plot_df, x='date', y='query', color='ranking', line_group='ranking', hover_name='ranking',\n",
    "        line_shape='spline')\n",
    "fig.update_layout(\n",
    "        title=\"Number of Queries by Avg Position\",\n",
    "        yaxis_title=\"Number of Queries\")\n",
    "fig.show()"
   ]
  },
  {
   "cell_type": "code",
   "execution_count": null,
   "metadata": {
    "tags": []
   },
   "outputs": [],
   "source": [
    "plot_df = df.groupby(['date']).agg({'query':'count','clicks':'sum'}).reset_index()\n",
    "\n",
    "fig = px.line(plot_df, x='date', y=['query','clicks'])\n",
    "fig.update_layout(\n",
    "        title=\"Number of Queries vs Clicks\")\n",
    "fig.show()"
   ]
  },
  {
   "cell_type": "code",
   "execution_count": null,
   "metadata": {},
   "outputs": [],
   "source": []
  }
 ]
}